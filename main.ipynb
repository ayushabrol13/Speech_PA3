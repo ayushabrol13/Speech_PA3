{
 "cells": [
  {
   "cell_type": "markdown",
   "metadata": {},
   "source": [
    "# Speech Understanding - Programming Assignment 3\n",
    "\n",
    "    Ayush Abrol B20AI052\n",
    "\n",
    "---"
   ]
  },
  {
   "cell_type": "code",
   "execution_count": 2,
   "metadata": {},
   "outputs": [],
   "source": [
    "import numpy as np\n",
    "import pandas as pd\n",
    "import matplotlib.pyplot as plt\n",
    "\n",
    "import os\n",
    "import sys\n",
    "import torch\n",
    "import librosa\n",
    "import torchaudio\n",
    "\n",
    "import torchmetrics\n",
    "\n",
    "import gradio as gr\n",
    "import wandb as wb\n"
   ]
  },
  {
   "cell_type": "markdown",
   "metadata": {},
   "source": [
    "## Question 1\n",
    "\n",
    "**Goal:** \n",
    "\n",
    "    The task is to classify the audio samples into Real and Fake\n",
    "\n",
    "**Tasks:** \n",
    "\n",
    "    —- Use the SSL W2V model trained for LA and DF tracks of the ASVSpoof dataset.\n",
    "\n",
    "    —- Download the custom dataset from here. Report the AUC and EER on this dataset. \n",
    "    \n",
    "    —- Analyze the performance of the model.\n",
    "    \n",
    "    —- Finetune the model on FOR dataset. \n",
    "    \n",
    "    —- Report the performance using AUC and EER on For dataset. \n",
    "    \n",
    "    —- Use the model trained on the FOR dataset to evaluate the custom dataset. Report the EER and AUC\n",
    "    \n",
    "    —- Comment on the change in performance, if any. "
   ]
  },
  {
   "cell_type": "code",
   "execution_count": 3,
   "metadata": {},
   "outputs": [
    {
     "data": {
      "text/plain": [
       "device(type='cuda')"
      ]
     },
     "execution_count": 3,
     "metadata": {},
     "output_type": "execute_result"
    }
   ],
   "source": [
    "device = torch.device(\"cuda\" if torch.cuda.is_available() else \"cpu\")\n",
    "device"
   ]
  },
  {
   "cell_type": "code",
   "execution_count": 4,
   "metadata": {},
   "outputs": [
    {
     "name": "stderr",
     "output_type": "stream",
     "text": [
      "Cloning into 'SSL_Anti-spoofing'...\n",
      "Updating files:  48% (607/1247)\n",
      "Updating files:  49% (612/1247)\n",
      "Updating files:  50% (624/1247)\n",
      "Updating files:  51% (636/1247)\n",
      "Updating files:  52% (649/1247)\n",
      "Updating files:  53% (661/1247)\n",
      "Updating files:  54% (674/1247)\n",
      "Updating files:  55% (686/1247)\n",
      "Updating files:  56% (699/1247)\n",
      "Updating files:  57% (711/1247)\n",
      "Updating files:  58% (724/1247)\n",
      "Updating files:  59% (736/1247)\n",
      "Updating files:  60% (749/1247)\n",
      "Updating files:  61% (761/1247)\n",
      "Updating files:  62% (774/1247)\n",
      "Updating files:  63% (786/1247)\n",
      "Updating files:  64% (799/1247)\n",
      "Updating files:  65% (811/1247)\n",
      "Updating files:  66% (824/1247)\n",
      "Updating files:  67% (836/1247)\n",
      "Updating files:  68% (848/1247)\n",
      "Updating files:  69% (861/1247)\n",
      "Updating files:  70% (873/1247)\n",
      "Updating files:  71% (886/1247)\n",
      "Updating files:  72% (898/1247)\n",
      "Updating files:  73% (911/1247)\n",
      "Updating files:  74% (923/1247)\n",
      "Updating files:  75% (936/1247)\n",
      "Updating files:  76% (948/1247)\n",
      "Updating files:  77% (961/1247)\n",
      "Updating files:  78% (973/1247)\n",
      "Updating files:  79% (986/1247)\n",
      "Updating files:  80% (998/1247)\n",
      "Updating files:  81% (1011/1247)\n",
      "Updating files:  82% (1023/1247)\n",
      "Updating files:  83% (1036/1247)\n",
      "Updating files:  84% (1048/1247)\n",
      "Updating files:  85% (1060/1247)\n",
      "Updating files:  86% (1073/1247)\n",
      "Updating files:  87% (1085/1247)\n",
      "Updating files:  88% (1098/1247)\n",
      "Updating files:  89% (1110/1247)\n",
      "Updating files:  90% (1123/1247)\n",
      "Updating files:  91% (1135/1247)\n",
      "Updating files:  92% (1148/1247)\n",
      "Updating files:  93% (1160/1247)\n",
      "Updating files:  94% (1173/1247)\n",
      "Updating files:  95% (1185/1247)\n",
      "Updating files:  96% (1198/1247)\n",
      "Updating files:  97% (1210/1247)\n",
      "Updating files:  98% (1223/1247)\n",
      "Updating files:  99% (1235/1247)\n",
      "Updating files: 100% (1247/1247)\n",
      "Updating files: 100% (1247/1247), done.\n"
     ]
    }
   ],
   "source": [
    "!git clone https://github.com/TakHemlata/SSL_Anti-spoofing.git"
   ]
  },
  {
   "cell_type": "code",
   "execution_count": null,
   "metadata": {},
   "outputs": [],
   "source": []
  }
 ],
 "metadata": {
  "kernelspec": {
   "display_name": "Python 3",
   "language": "python",
   "name": "python3"
  },
  "language_info": {
   "codemirror_mode": {
    "name": "ipython",
    "version": 3
   },
   "file_extension": ".py",
   "mimetype": "text/x-python",
   "name": "python",
   "nbconvert_exporter": "python",
   "pygments_lexer": "ipython3",
   "version": "3.11.6"
  }
 },
 "nbformat": 4,
 "nbformat_minor": 2
}
